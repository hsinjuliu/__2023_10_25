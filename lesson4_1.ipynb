{
 "cells": [
  {
   "cell_type": "code",
   "execution_count": 27,
   "metadata": {},
   "outputs": [
    {
     "name": "stdout",
     "output_type": "stream",
     "text": [
      "學生原始分數是58 \n",
      "加分*1.5\n",
      "學生最後分數是60.900000000000006 !\n",
      "學生最後分數round後是61 \n",
      "及格\n"
     ]
    }
   ],
   "source": [
    "#分數為整數0~100之間\n",
    "#可加分,*1.05\n",
    "#加分後超過100分,最高100分\n",
    "\n",
    "#try/except: 例外時執行\n",
    "#使用者輸入時有可能錯誤需要防呆\n",
    "try:\n",
    "    score = int(input(\"輸入學生分數(整數且在0~100之間)\"))\n",
    "\n",
    "    #二維運算子\n",
    "    if(score>0 and score <= 100):\n",
    "\n",
    "        print(f\"學生原始分數是{score} \")    \n",
    "\n",
    "        is_add = input(\"加分? (y/n)\")\n",
    "\n",
    "        if is_add == \"y\": #無括號也可\n",
    "            print(\"加分*1.5\")\n",
    "            score*=1.05\n",
    "\n",
    "            #加分後分數不超過100\n",
    "            if score>100: \n",
    "                score = 100\n",
    "\n",
    "        #字串差補\n",
    "        print(f\"學生最後分數是{score} !\")\n",
    "        print(f\"學生最後分數round後是{round(score)} \")    \n",
    "\n",
    "        #判斷及格與否\n",
    "        if score > 60:\n",
    "            print(\"及格\")\n",
    "        else:\n",
    "            print(\"不及格\")\n",
    "    else:\n",
    "        print(\"輸入錯誤!分數必須在0~100之間\")\n",
    "            \n",
    "except:\n",
    "    print(\"輸入格式錯誤!\")\n"
   ]
  }
 ],
 "metadata": {
  "kernelspec": {
   "display_name": "Python 3",
   "language": "python",
   "name": "python3"
  },
  "language_info": {
   "codemirror_mode": {
    "name": "ipython",
    "version": 3
   },
   "file_extension": ".py",
   "mimetype": "text/x-python",
   "name": "python",
   "nbconvert_exporter": "python",
   "pygments_lexer": "ipython3",
   "version": "3.10.13"
  }
 },
 "nbformat": 4,
 "nbformat_minor": 2
}
