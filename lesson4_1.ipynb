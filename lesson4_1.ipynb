{
 "cells": [
  {
   "cell_type": "code",
   "execution_count": 27,
   "metadata": {},
   "outputs": [
    {
     "name": "stdout",
     "output_type": "stream",
     "text": [
      "學生原始分數是58 \n",
      "加分*1.5\n",
      "學生最後分數是60.900000000000006 !\n",
      "學生最後分數round後是61 \n",
      "及格\n"
     ]
    }
   ],
   "source": [
    "#分數為整數0~100之間\n",
    "#可加分,*1.05\n",
    "#加分後超過100分,最高100分\n",
    "\n",
    "#try/except: 例外時執行\n",
    "#使用者輸入時有可能錯誤需要防呆\n",
    "try:\n",
    "    score = int(input(\"輸入學生分數(整數且在0~100之間)\"))\n",
    "\n",
    "    #二維運算子\n",
    "    if(score>0 and score <= 100):\n",
    "\n",
    "        print(f\"學生原始分數是{score} \")    \n",
    "\n",
    "        is_add = input(\"加分? (y/n)\")\n",
    "\n",
    "        if is_add == \"y\": #無括號也可\n",
    "            print(\"加分*1.5\")\n",
    "            score*=1.05\n",
    "\n",
    "            #加分後分數不超過100\n",
    "            if score>100: \n",
    "                score = 100\n",
    "\n",
    "        #字串差補\n",
    "        print(f\"學生最後分數是{score} !\")\n",
    "        print(f\"學生最後分數round後是{round(score)} \")    \n",
    "\n",
    "        #判斷及格與否\n",
    "        if score > 60:\n",
    "            print(\"及格\")\n",
    "        else:\n",
    "            print(\"不及格\")\n",
    "    else:\n",
    "        print(\"輸入錯誤!分數必須在0~100之間\")\n",
    "            \n",
    "except:\n",
    "    print(\"輸入格式錯誤!\")\n"
   ]
  },
  {
   "cell_type": "code",
   "execution_count": 41,
   "metadata": {},
   "outputs": [
    {
     "name": "stdout",
     "output_type": "stream",
     "text": [
      "學生原始分數是100 \n",
      "學生評級是優 \n"
     ]
    }
   ],
   "source": [
    "#將數字分數 90/80/70/60/0~59   \n",
    "#轉變成分級:優/甲/乙/丙/丁\n",
    "\n",
    "try:\n",
    "    score = int(input(\"輸入學生分數(整數且在0~100之間)\"))\n",
    "\n",
    "    if(score>0 and score <= 100):\n",
    "        print(f\"學生原始分數是{score} \") \n",
    "        \n",
    "        #分級\n",
    "        #不用先在外面宣告變數grade\n",
    "        if(score >= 90):  \n",
    "            grade = \"優\"\n",
    "        elif(score >= 80):\n",
    "            grade = \"甲\"\n",
    "        elif(score >= 70):\n",
    "            grade = \"乙\"\n",
    "        elif(score >= 60):\n",
    "            grade = \"丙\"\n",
    "        else:\n",
    "            grade = \"丁\"\n",
    "\n",
    "        print(f\"學生評級是{grade} \") \n",
    "\n",
    "    else:\n",
    "        print(\"輸入錯誤!分數必須在0~100之間\")\n",
    "    \n",
    "except:\n",
    "    print(\"輸入格式錯誤!\")"
   ]
  },
  {
   "cell_type": "code",
   "execution_count": 40,
   "metadata": {},
   "outputs": [
    {
     "name": "stdout",
     "output_type": "stream",
     "text": [
      "輸入格式錯誤!必須>0\n"
     ]
    }
   ],
   "source": [
    "#滿萬現折\n",
    "#10萬打8折\n",
    "#5萬打85折\n",
    "#3萬打9折\n",
    "#1萬打95折\n",
    "\n",
    "try:\n",
    "    money = int(input(\"輸入購買金額(整數且>0)\"))\n",
    "\n",
    "    if(money >= 0):\n",
    "        if(money>=100000):\n",
    "            discount=0.8\n",
    "\n",
    "        elif(money>=50000):\n",
    "            discount=0.85\n",
    "\n",
    "        elif(money>=30000):\n",
    "            discount=0.9\n",
    "\n",
    "        elif(money>=10000):\n",
    "            discount=0.95\n",
    "\n",
    "        else:\n",
    "            discount=1\n",
    "\n",
    "        money*=discount\n",
    "\n",
    "        #float的無條件捨去用int\n",
    "        print(f\"結帳金額${int(money)}\")\n",
    "    else:\n",
    "        print(\"輸入格式錯誤!必須>0\")\n",
    "\n",
    "except:\n",
    "    print(\"輸入格式錯誤!必須是整數\")"
   ]
  }
 ],
 "metadata": {
  "kernelspec": {
   "display_name": "Python 3",
   "language": "python",
   "name": "python3"
  },
  "language_info": {
   "codemirror_mode": {
    "name": "ipython",
    "version": 3
   },
   "file_extension": ".py",
   "mimetype": "text/x-python",
   "name": "python",
   "nbconvert_exporter": "python",
   "pygments_lexer": "ipython3",
   "version": "3.10.13"
  }
 },
 "nbformat": 4,
 "nbformat_minor": 2
}
