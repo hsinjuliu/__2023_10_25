{
 "cells": [
  {
   "cell_type": "code",
   "execution_count": 15,
   "metadata": {},
   "outputs": [
    {
     "name": "stdout",
     "output_type": "stream",
     "text": [
      "測試呼叫函數\n",
      "Hello\n",
      "Hello, User!\n",
      "Hello, Python!\n",
      "Hello, Dear User!\n",
      "Hello, Dear Python!\n"
     ]
    }
   ],
   "source": [
    "#def 函式名稱(參數,...)\n",
    "#呼叫函式的參數必須按照順序放，不能不放前面就放後面\n",
    "#參數順序(沒預設值>有預設值>可有可無)若沒按照順序放會有錯誤error\n",
    "\n",
    "#沒有參數\n",
    "def sayHello():\n",
    "    print(\"Hello\")\n",
    "\n",
    "#有參數\n",
    "def sayHelloUser(name=\"User\"):\n",
    "     print(f\"Hello, {name}!\")\n",
    "\n",
    "#有順序的參數:沒預設值>有預設值>可有可無\n",
    "def sayHelloDearUser(mustParam,name=\"User\"):\n",
    "    print(f\"Hello, {mustParam} {name}!\")\n",
    "\n",
    "print(\"測試呼叫函數\")\n",
    "\n",
    "sayHello()\n",
    "sayHelloUser()\n",
    "sayHelloUser(\"Python\")\n",
    "sayHelloDearUser(\"Dear\")\n",
    "sayHelloDearUser(\"Dear\",\"Python\")"
   ]
  }
 ],
 "metadata": {
  "kernelspec": {
   "display_name": "Python 3",
   "language": "python",
   "name": "python3"
  },
  "language_info": {
   "codemirror_mode": {
    "name": "ipython",
    "version": 3
   },
   "file_extension": ".py",
   "mimetype": "text/x-python",
   "name": "python",
   "nbconvert_exporter": "python",
   "pygments_lexer": "ipython3",
   "version": "3.10.13"
  }
 },
 "nbformat": 4,
 "nbformat_minor": 2
}
