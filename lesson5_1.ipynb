{
 "cells": [
  {
   "cell_type": "code",
   "execution_count": 2,
   "metadata": {},
   "outputs": [
    {
     "name": "stdout",
     "output_type": "stream",
     "text": [
      "分數是100\n"
     ]
    }
   ],
   "source": [
    "#反斜線\\可以程式換行\n",
    "#反斜線\\程式換行後面不可加入任何東西包含註解\n",
    "\n",
    "try:\n",
    "    score = int(input(\"請輸入\\\n",
    "                    分數\"))\n",
    "\n",
    "    print(f\"分數是{score}\")\n",
    "    \n",
    "except:\n",
    "    print(\"輸入格式有問題!\")"
   ]
  },
  {
   "cell_type": "code",
   "execution_count": null,
   "metadata": {},
   "outputs": [],
   "source": [
    "#將數字分數 90/80/70/60/0~59   \n",
    "#轉變成分級:優/甲/乙/丙/丁\n",
    "\n",
    "try:\n",
    "    score = int(input(\"輸入學生分數(整數且在0~100之間)\"))\n",
    "\n",
    "    if(score>0 and score <= 100):\n",
    "        print(f\"學生原始分數是{score} \") \n",
    "        \n",
    "        #分級\n",
    "        #不用先在外面宣告變數grade\n",
    "        if(score >= 90):  \n",
    "            grade = \"優\"\n",
    "        elif(score >= 80):\n",
    "            grade = \"甲\"\n",
    "        elif(score >= 70):\n",
    "            grade = \"乙\"\n",
    "        elif(score >= 60):\n",
    "            grade = \"丙\"\n",
    "        else:\n",
    "            grade = \"丁\"\n",
    "\n",
    "        print(f\"學生評級是{grade} \") \n",
    "\n",
    "    else:\n",
    "        print(\"輸入錯誤!分數必須在0~100之間\")\n",
    "    \n",
    "except:\n",
    "    print(\"輸入格式錯誤!\")"
   ]
  },
  {
   "cell_type": "code",
   "execution_count": 6,
   "metadata": {},
   "outputs": [
    {
     "name": "stdout",
     "output_type": "stream",
     "text": [
      "輸入格式錯誤\n"
     ]
    }
   ],
   "source": [
    "#如果x不是負數，傳回值為 x**(1/y)\n",
    "#如果x是負數且為偶數，傳回值為0\n",
    "#如果x是負數且為基數，傳回值為 -(-x)**(1/y)\n",
    "\n",
    "try:\n",
    "    x = int(input(\"請輸入x的整數\"))\n",
    "    y = int(input(\"請輸入y的整數(y不能為0)\"))\n",
    "\n",
    "    root=  0\n",
    "    if x >= 0:\n",
    "        root = x**(1/y)\n",
    "    elif x%2 == 0:\n",
    "        root = 0\n",
    "    else:\n",
    "        root = -(-x)**(1/y)\n",
    "        \n",
    "    print(f\"root={root}\")\n",
    "\n",
    "except:\n",
    "    print(\"輸入格式錯誤\")"
   ]
  },
  {
   "cell_type": "code",
   "execution_count": 7,
   "metadata": {},
   "outputs": [
    {
     "name": "stdout",
     "output_type": "stream",
     "text": [
      "結帳金額$9500\n"
     ]
    }
   ],
   "source": [
    "#滿萬現折\n",
    "#10萬打8折\n",
    "#5萬打85折\n",
    "#3萬打9折\n",
    "#1萬打95折\n",
    "\n",
    "try:\n",
    "    money = int(input(\"輸入購買金額(整數且>0)\"))\n",
    "\n",
    "    if(money >= 0):\n",
    "        if(money>=100000):\n",
    "            discount=0.8\n",
    "\n",
    "        elif(money>=50000):\n",
    "            discount=0.85\n",
    "\n",
    "        elif(money>=30000):\n",
    "            discount=0.9\n",
    "\n",
    "        elif(money>=10000):\n",
    "            discount=0.95\n",
    "\n",
    "        else:\n",
    "            discount=1\n",
    "\n",
    "        money*=discount\n",
    "\n",
    "        #float的無條件捨去用int\n",
    "        print(f\"結帳金額${int(money)}\")\n",
    "    else:\n",
    "        print(\"輸入格式錯誤!必須>0\")\n",
    "\n",
    "except:\n",
    "    print(\"輸入格式錯誤!必須是整數\")"
   ]
  },
  {
   "cell_type": "code",
   "execution_count": 14,
   "metadata": {},
   "outputs": [
    {
     "name": "stdout",
     "output_type": "stream",
     "text": [
      "輸入格式錯誤!\n"
     ]
    }
   ],
   "source": [
    "#國文100分，同時數學100分，獎金1000\n",
    "#國文100分，或者數學100分，獎金500\n",
    "\n",
    "try:\n",
    "    chinese = int(input(\"請輸入國文分數\"))\n",
    "    math = int(input(\"請輸入數學分數\"))\n",
    "\n",
    "    if(chinese<0 or math<0):\n",
    "        raise Exception\n",
    "\n",
    "    bonus = 0\n",
    "    if(chinese==100) and (math ==100):\n",
    "        bonus = 1000\n",
    "    elif(chinese==100) or (math ==100):\n",
    "        bonus = 500\n",
    "\n",
    "    print(f\"獎金={bonus}\")\n",
    "except:\n",
    "    print(\"輸入格式錯誤!\")"
   ]
  },
  {
   "cell_type": "code",
   "execution_count": 16,
   "metadata": {},
   "outputs": [
    {
     "name": "stdout",
     "output_type": "stream",
     "text": [
      "<351 or >400\n"
     ]
    }
   ],
   "source": [
    "num = int(input(\"請輸入號碼\"))\n",
    "\n",
    "if (num >=351) and (num<=400):\n",
    "    print(\"351~400\")\n",
    "elif (num<351) or (num>400):\n",
    "    print(\"<351 or >400\")\n",
    "else:\n",
    "    print(\"邏輯上不會進入這裡\")"
   ]
  }
 ],
 "metadata": {
  "kernelspec": {
   "display_name": "Python 3",
   "language": "python",
   "name": "python3"
  },
  "language_info": {
   "codemirror_mode": {
    "name": "ipython",
    "version": 3
   },
   "file_extension": ".py",
   "mimetype": "text/x-python",
   "name": "python",
   "nbconvert_exporter": "python",
   "pygments_lexer": "ipython3",
   "version": "3.10.13"
  }
 },
 "nbformat": 4,
 "nbformat_minor": 2
}
