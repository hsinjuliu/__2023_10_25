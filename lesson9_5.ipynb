{
 "cells": [
  {
   "cell_type": "code",
   "execution_count": 23,
   "metadata": {},
   "outputs": [
    {
     "name": "stdout",
     "output_type": "stream",
     "text": [
      "<_io.TextIOWrapper name='test1.txt' mode='r' encoding='UTF-8'>\n",
      "['_CHUNK_SIZE', '__class__', '__del__', '__delattr__', '__dict__', '__dir__', '__doc__', '__enter__', '__eq__', '__exit__', '__format__', '__ge__', '__getattribute__', '__gt__', '__hash__', '__init__', '__init_subclass__', '__iter__', '__le__', '__lt__', '__ne__', '__new__', '__next__', '__reduce__', '__reduce_ex__', '__repr__', '__setattr__', '__sizeof__', '__str__', '__subclasshook__', '_checkClosed', '_checkReadable', '_checkSeekable', '_checkWritable', '_finalizing', 'buffer', 'close', 'closed', 'detach', 'encoding', 'errors', 'fileno', 'flush', 'isatty', 'line_buffering', 'mode', 'name', 'newlines', 'read', 'readable', 'readline', 'readlines', 'reconfigure', 'seek', 'seekable', 'tell', 'truncate', 'writable', 'write', 'write_through', 'writelines']\n",
      "0\n",
      "12\n"
     ]
    }
   ],
   "source": [
    "#建立File實體\n",
    "#open(一定要有file_name,其他引數有預設值)\n",
    "#file1= open(file_name [,access_mode])\n",
    "# [,access_mode]:\n",
    "#預設讀取文字(r)/二進位閱讀(rb)/讀寫文字(r+)/讀寫二進位(rb+)/\n",
    "#寫入(w)/寫入二進位(wb)/寫入閱讀(w+)/寫入閱讀二進位(wb+)/\n",
    "#附加(a)/附加二進位(ab)/附加與讀取(a+)/附加與讀取二進位(ab+)\n",
    "\n",
    "file1 = open('test1.txt')\n",
    "\n",
    "print(file1)\n",
    "\n",
    "#file的函式\n",
    "print(dir(file1))\n",
    "\n",
    "#告訴目前的index在哪\n",
    "print(file1.tell())\n",
    "\n",
    "#讀取並把index移到最後\n",
    "file1.read()\n",
    "\n",
    "#告訴目前的index在哪\n",
    "print(file1.tell())\n",
    "\n",
    "#關閉\n",
    "file1.close()\n",
    "\n",
    "\n"
   ]
  },
  {
   "cell_type": "code",
   "execution_count": 31,
   "metadata": {},
   "outputs": [
    {
     "name": "stdout",
     "output_type": "stream",
     "text": [
      "0\n",
      "複寫第1行複寫第2行複寫第3行\n",
      "39\n"
     ]
    }
   ],
   "source": [
    "#複寫file\n",
    "file2 = open('test1.txt', mode='w')\n",
    "\n",
    "#寫入單行並把index移到最後\n",
    "file2.write('複寫第1行\\n')\n",
    "\n",
    "#寫入多行用list[]並把index移到最後\n",
    "file2.writelines(['複寫第2行\\n','複寫第3行\\n'])\n",
    "\n",
    "#關閉file\n",
    "file2.close()\n",
    "\n",
    "\n",
    "#只讀取file\n",
    "file3 = open('test1.txt', mode='r')\n",
    "\n",
    "print(file3.tell())\n",
    "print(file3.read())\n",
    "print(file3.tell())\n",
    "\n",
    "\n",
    "file3.close()"
   ]
  }
 ],
 "metadata": {
  "kernelspec": {
   "display_name": "Python 3",
   "language": "python",
   "name": "python3"
  },
  "language_info": {
   "codemirror_mode": {
    "name": "ipython",
    "version": 3
   },
   "file_extension": ".py",
   "mimetype": "text/x-python",
   "name": "python",
   "nbconvert_exporter": "python",
   "pygments_lexer": "ipython3",
   "version": "3.10.13"
  }
 },
 "nbformat": 4,
 "nbformat_minor": 2
}
