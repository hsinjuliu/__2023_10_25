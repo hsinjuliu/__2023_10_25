{
 "cells": [
  {
   "cell_type": "code",
   "execution_count": 2,
   "metadata": {},
   "outputs": [
    {
     "name": "stdout",
     "output_type": "stream",
     "text": [
      "1\n",
      "2\n",
      "3\n",
      "4\n",
      "5\n"
     ]
    }
   ],
   "source": [
    "#while\n",
    "i = 1\n",
    "while(i<6):\n",
    "    print(i)\n",
    "    i+=1\n"
   ]
  },
  {
   "cell_type": "code",
   "execution_count": 4,
   "metadata": {},
   "outputs": [
    {
     "name": "stdout",
     "output_type": "stream",
     "text": [
      "1\n",
      "2\n",
      "3\n",
      "4\n",
      "5\n"
     ]
    }
   ],
   "source": [
    "#range(n)指 0~n-1，不包含n\n",
    "i = 1\n",
    "while (i in range(6)):\n",
    "     print(i)\n",
    "     i+=1"
   ]
  },
  {
   "cell_type": "code",
   "execution_count": 10,
   "metadata": {},
   "outputs": [
    {
     "name": "stdout",
     "output_type": "stream",
     "text": [
      "第2次存款後達標指定金額!\n"
     ]
    }
   ],
   "source": [
    "#每月存錢，存到指定金額(30000)，系統提示訊息\n",
    "moto = 30000\n",
    "deposit = 0\n",
    "count = 0\n",
    "\n",
    "while deposit < moto:\n",
    "    \n",
    "    count+=1\n",
    "    deposit+=int(input(f\"第{count}次存款:\"))\n",
    "    \n",
    "print(f\"第{count}次存款後達到指定金額!\")\n"
   ]
  },
  {
   "cell_type": "code",
   "execution_count": 19,
   "metadata": {},
   "outputs": [
    {
     "name": "stdout",
     "output_type": "stream",
     "text": [
      "stuff abcABC  aabbccAABBCC\n",
      "stuff.lower() abcabc  aabbccaabbcc\n",
      "stuff.upper() ABCABC  AABBCCAABBCC\n",
      "stuff.capitalize() Abcabc  aabbccaabbcc\n",
      "stuff.upper() Abcabc  Aabbccaabbcc\n"
     ]
    }
   ],
   "source": [
    "#upper() : 將所有字母改為大寫\n",
    "#lower() : 將所有字母改為小寫\n",
    "#capitalize() : 將字串中的第一個字母大寫，其餘小寫\n",
    "#title() : 將每組單詞(空格區分)的第一個字母大寫，其餘小寫\n",
    "\n",
    "stuff = input(\"請輸入字串\")\n",
    "print(\"stuff\",stuff)\n",
    "\n",
    "\n",
    "print(\"stuff.lower()\",stuff.lower()) #將所有字母改為小寫\n",
    "\n",
    "\n",
    "print(\"stuff.upper()\",stuff.upper()) #將所有字母改為大寫\n",
    "\n",
    "\n",
    "print(\"stuff.capitalize()\",stuff.capitalize()) #將字串中的第一個字母大寫，其餘小寫\n",
    "\n",
    "\n",
    "print(\"stuff.upper()\",stuff.title()) #將每組單詞(空格區分)的第一個字母大寫，其餘小寫\n",
    "\n",
    "\n",
    "\n"
   ]
  },
  {
   "cell_type": "code",
   "execution_count": 23,
   "metadata": {},
   "outputs": [
    {
     "name": "stdout",
     "output_type": "stream",
     "text": [
      "QQ\n",
      "Q\n",
      "離開\n"
     ]
    }
   ],
   "source": [
    "#使用者輸入q之後離開迴圈\n",
    "\n",
    "while True:\n",
    "    stuff = input(\"請輸入指示(輸入q離開)\")\n",
    "    print(stuff)\n",
    "    \n",
    "    if(stuff.lower() == \"q\"): #文字不像java要用.equals()\n",
    "        break\n",
    "\n",
    "print(\"離開\")"
   ]
  },
  {
   "cell_type": "code",
   "execution_count": 30,
   "metadata": {},
   "outputs": [
    {
     "name": "stdout",
     "output_type": "stream",
     "text": [
      "輸入了1\n",
      "輸入了3\n",
      "輸入了5\n",
      "輸入了2\n",
      "輸入了4\n",
      "輸入了-1\n",
      "結束,total=6\n"
     ]
    }
   ],
   "source": [
    "#使用者輸入,正整數續加,負整數不續加,負數跳出\n",
    "\n",
    "total=0\n",
    "while(True):\n",
    "    i = int(input(\"請輸入數字,正整數續加,負整數不續加,負數跳出\"))\n",
    "    print(f\"輸入了{i}\")\n",
    "   \n",
    "    if i<0:\n",
    "        break\n",
    "    elif i%2 == 0:\n",
    "        total+=i\n",
    "    else:\n",
    "        continue\n",
    "\n",
    "print(f\"結束,total={total}\")\n"
   ]
  }
 ],
 "metadata": {
  "kernelspec": {
   "display_name": "Python 3",
   "language": "python",
   "name": "python3"
  },
  "language_info": {
   "codemirror_mode": {
    "name": "ipython",
    "version": 3
   },
   "file_extension": ".py",
   "mimetype": "text/x-python",
   "name": "python",
   "nbconvert_exporter": "python",
   "pygments_lexer": "ipython3",
   "version": "3.10.13"
  }
 },
 "nbformat": 4,
 "nbformat_minor": 2
}
