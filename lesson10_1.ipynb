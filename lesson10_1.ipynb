{
 "cells": [
  {
   "cell_type": "code",
   "execution_count": 17,
   "metadata": {},
   "outputs": [
    {
     "name": "stdout",
     "output_type": "stream",
     "text": [
      "<class 'str'>\n",
      "Tom\n",
      "Nancy\n",
      "JESSIE\n",
      "Miu Miu\n",
      "judy\n",
      "JiMMY\n"
     ]
    },
    {
     "data": {
      "text/plain": [
       "'Tom\\nNancy\\nJESSIE\\nMiu Miu\\njudy\\nJiMMY'"
      ]
     },
     "metadata": {},
     "output_type": "display_data"
    },
    {
     "name": "stdout",
     "output_type": "stream",
     "text": [
      "35\n",
      "0\n"
     ]
    }
   ],
   "source": [
    "\n",
    "file1 = open('name.txt',mode='r',encoding='utf-8')\n",
    "\n",
    "names = file1.read()\n",
    "\n",
    "print(type(names))\n",
    "print(names)\n",
    "display(names)\n",
    "\n",
    "#回傳index位置\n",
    "print(file1.tell())\n",
    "\n",
    "#.seek(index):讀取的指標回到index, 如.seek(0)等於回到最前\n",
    "file1.seek(0)\n",
    "print(file1.tell())\n",
    "\n",
    "#手動關閉\n",
    "file1.close()"
   ]
  },
  {
   "cell_type": "code",
   "execution_count": 14,
   "metadata": {},
   "outputs": [
    {
     "data": {
      "text/plain": [
       "['Tom\\n', 'Nancy\\n', 'JESSIE\\n', 'Miu Miu\\n', 'judy\\n', 'JiMMY']"
      ]
     },
     "metadata": {},
     "output_type": "display_data"
    }
   ],
   "source": [
    "#with open() as file 會自動 close\n",
    "#要對file做的動作放在他的tab區塊內\n",
    "with open('name.txt',mode='r',encoding='utf-8')  as file2:\n",
    "   \n",
    "    #.readlines回傳list[]\n",
    "    namelines=file2.readlines()\n",
    "    display(namelines)"
   ]
  },
  {
   "cell_type": "code",
   "execution_count": 31,
   "metadata": {},
   "outputs": [
    {
     "name": "stdout",
     "output_type": "stream",
     "text": [
      "Tom\n",
      "Nancy\n",
      "JESSIE\n",
      "Miu Miu\n",
      "judy\n",
      "JiMMY\n",
      "12345\n",
      "TEST\n",
      "['Tom', 'Nancy', 'JESSIE', 'Miu Miu\\njudy\\nJiMMY\\n12345\\nTEST']\n",
      "['Tom', 'Nancy', 'JESSIE', 'Miu Miu', 'judy', 'JiMMY', '12345', 'TEST']\n",
      "TomNancyJESSIEMiu MiujudyJiMMY12345TEST\n",
      "Tom,Nancy,JESSIE,Miu Miu,judy,JiMMY,12345,TEST\n",
      "['Tom', 'Nancy', 'JESSIE', 'Miu Miu', 'judy', 'JiMMY', '12345', 'TEST']\n"
     ]
    }
   ],
   "source": [
    "#with open() as file 會自動 close\n",
    "#要對file做的動作放在他的tab區塊內\n",
    "with open('name.txt',mode='r',encoding='utf-8')  as file3:\n",
    "   \n",
    "   #讀資料宣告給str實體\n",
    "    namestr:str = file3.read()\n",
    "    print(namestr)\n",
    "\n",
    "    #分割str成list[],指定最大分割次數 maxsplit\n",
    "    names2 = namestr.split('\\n',maxsplit=3)\n",
    "    print(names2)\n",
    "\n",
    "    #分割str成list[]\n",
    "    names1 = namestr.split('\\n')\n",
    "    print(names1)\n",
    "\n",
    "    #處理list資料\n",
    "    new_namestr = ''\n",
    "    for name in names1:\n",
    "       new_namestr+=name\n",
    "    print(new_namestr)\n",
    "\n",
    "    #用list資料符號合併\n",
    "    new_namestr2 = \",\".join(names1)\n",
    "    print(new_namestr2)\n",
    "\n",
    "    #用符號分割成list\n",
    "    nameList:list[str] = new_namestr2.split(',')\n",
    "    print(nameList)"
   ]
  },
  {
   "cell_type": "code",
   "execution_count": 42,
   "metadata": {},
   "outputs": [
    {
     "name": "stdout",
     "output_type": "stream",
     "text": [
      "要幾個名字?隨機取出:\n",
      "['JiMMY', 'TEST', 'Tom', 'TEST', '12345']\n",
      "['JiMMY', 'TEST', 'Tom', 'Miu Miu', 'Nancy']\n"
     ]
    }
   ],
   "source": [
    "#隨機取出n個名字\n",
    "import random\n",
    "import pyinputplus as pyip\n",
    "\n",
    "#出處\n",
    "with open('name.txt',mode='r',encoding='utf-8')  as file4:\n",
    "    nameSource=file4.read()\n",
    "nameSourceList = nameSource.split('\\n')\n",
    "\n",
    "howmuch:int = pyip.inputInt(\"要幾個名字?\",min=1,max=10)\n",
    "print(\"隨機取出:\")\n",
    "\n",
    "#random.choices(seq,k):從字串、串列或 tuple中，隨機取出k個項目，可能重複\n",
    "#random.sample(seq,l): 從字串、串列或 tuple中，隨機取出k個項目，不會重複\n",
    "\n",
    "#random.choices() 會拿到重複的資料\n",
    "randomNames:list[str] = random.choices(nameSourceList,k=howmuch)\n",
    "print(randomNames)\n",
    "\n",
    "#random.sample() 拿到不重複的資料，拿出的數量必須小於等於資料數量\n",
    "randomNames2:list[str] = random.sample(nameSourceList,k=howmuch)\n",
    "print(randomNames2)\n"
   ]
  }
 ],
 "metadata": {
  "kernelspec": {
   "display_name": "Python 3",
   "language": "python",
   "name": "python3"
  },
  "language_info": {
   "codemirror_mode": {
    "name": "ipython",
    "version": 3
   },
   "file_extension": ".py",
   "mimetype": "text/x-python",
   "name": "python",
   "nbconvert_exporter": "python",
   "pygments_lexer": "ipython3",
   "version": "3.10.13"
  }
 },
 "nbformat": 4,
 "nbformat_minor": 2
}
