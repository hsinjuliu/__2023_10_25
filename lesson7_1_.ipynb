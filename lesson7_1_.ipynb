{
 "cells": [
  {
   "cell_type": "code",
   "execution_count": 13,
   "metadata": {},
   "outputs": [
    {
     "name": "stdout",
     "output_type": "stream",
     "text": [
      "您輸入的身高:1.57(m)\n",
      "您輸入的體重:55.0(kg)\n",
      "\n",
      "您的BMI=22.3正常,BMI正常範圍為=18.5~24\n"
     ]
    }
   ],
   "source": [
    "#BMI Calculator\n",
    "#BMI = 體重(公斤) / 身高2(公尺2)\n",
    "\n",
    "height = float(input(\"請輸入身高(cm)\"))/100\n",
    "weight = float(input(\"請輸入體重(kg):\"))\n",
    "\n",
    "print(f\"您輸入的身高:{height}(m)\")\n",
    "print(f\"您輸入的體重:{weight}(kg)\")\n",
    "\n",
    "bmi=weight/(height*height)\n",
    "\n",
    "if(bmi<18.5):\n",
    "    print(f\"您的BMI={bmi:.1f}過低,BMI正常範圍為=18.5~24\")\n",
    "elif(bmi>24):\n",
    "    print(f\"您的BMI={bmi:.1f}過高,BMI正常範圍為=18.5~24\")\n",
    "else:\n",
    "     print(f\"您的BMI={bmi:.1f}正常,BMI正常範圍為=18.5~24\")"
   ]
  }
 ],
 "metadata": {
  "kernelspec": {
   "display_name": "Python 3",
   "language": "python",
   "name": "python3"
  },
  "language_info": {
   "codemirror_mode": {
    "name": "ipython",
    "version": 3
   },
   "file_extension": ".py",
   "mimetype": "text/x-python",
   "name": "python",
   "nbconvert_exporter": "python",
   "pygments_lexer": "ipython3",
   "version": "3.10.13"
  }
 },
 "nbformat": 4,
 "nbformat_minor": 2
}
