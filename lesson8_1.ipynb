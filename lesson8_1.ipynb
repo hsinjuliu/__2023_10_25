{
 "cells": [
  {
   "cell_type": "code",
   "execution_count": null,
   "metadata": {},
   "outputs": [
    {
     "name": "stdout",
     "output_type": "stream",
     "text": [
      "半徑=10.0\n",
      "圓面積=半徑的平方*π=314.1592653589793\n"
     ]
    }
   ],
   "source": [
    "#自訂函式\n",
    "#圓面積=π×半徑平方=πR2\n",
    "import math\n",
    "def circle_area(radius):\n",
    "    return radius**2*math.pi\n",
    "\n",
    "radius = float(input(\"請輸入圓半徑:\"))\n",
    "print(f\"圓半徑={radius}\")\n",
    "      \n",
    "area = circle_area(radius)\n",
    "print(f\"圓面積=半徑的平方*π={area}\")\n",
    "    "
   ]
  },
  {
   "cell_type": "code",
   "execution_count": 8,
   "metadata": {},
   "outputs": [
    {
     "name": "stdout",
     "output_type": "stream",
     "text": [
      "請輸入圓的半徑:10.0\n",
      "圓面積=半徑的平方*π=314.1592653589793\n"
     ]
    }
   ],
   "source": [
    "import pyinputplus as pyip\n",
    "\n",
    "radius = pyip.inputFloat(\"請輸入圓的半徑:\")\n",
    "print(radius)\n",
    "print(f\"圓面積=半徑的平方*π={circle_area(radius)}\")\n"
   ]
  },
  {
   "cell_type": "code",
   "execution_count": 7,
   "metadata": {},
   "outputs": [
    {
     "name": "stdout",
     "output_type": "stream",
     "text": [
      "394.485\n"
     ]
    }
   ],
   "source": [
    "#自訂函式參數的格式\n",
    "#梯形面積=(上底+下底)*高/2\n",
    "def circle_area_spec(up:int | float,\n",
    "               down: int | float =10,\n",
    "               height: int | float = 10) -> float:\n",
    "    return (up+down)*height/2\n",
    "\n",
    "\n",
    "print(circle_area_spec(3.57,down=34,height=21))"
   ]
  }
 ],
 "metadata": {
  "kernelspec": {
   "display_name": "Python 3",
   "language": "python",
   "name": "python3"
  },
  "language_info": {
   "codemirror_mode": {
    "name": "ipython",
    "version": 3
   },
   "file_extension": ".py",
   "mimetype": "text/x-python",
   "name": "python",
   "nbconvert_exporter": "python",
   "pygments_lexer": "ipython3",
   "version": "3.10.13"
  }
 },
 "nbformat": 4,
 "nbformat_minor": 2
}
