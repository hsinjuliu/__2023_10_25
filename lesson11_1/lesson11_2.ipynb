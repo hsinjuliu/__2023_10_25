{
 "cells": [
  {
   "cell_type": "code",
   "execution_count": null,
   "metadata": {},
   "outputs": [],
   "source": [
    "sbj1=[]\n",
    "\n",
    "#range(n) 代表從 0~n-1\n",
    "for i in range(5):\n",
    "    sbj1.append(f\"科目{i+1}\")\n",
    "title1 = ['姓名']\n",
    "title1.extend(sbj1)\n",
    "\n",
    "print(title1)\n"
   ]
  },
  {
   "cell_type": "code",
   "execution_count": 2,
   "metadata": {},
   "outputs": [
    {
     "name": "stdout",
     "output_type": "stream",
     "text": [
      "['姓名', '科目1', '科目2', '科目3', '科目4', '科目5']\n"
     ]
    }
   ],
   "source": [
    "#快速寫法\n",
    "sbj2 = [f\"科目{i+1}\" for i in range(5)]\n",
    "\n",
    "title2 = ['姓名']\n",
    "title2.extend(sbj2)\n",
    "print(title2)"
   ]
  }
 ],
 "metadata": {
  "kernelspec": {
   "display_name": "Python 3",
   "language": "python",
   "name": "python3"
  },
  "language_info": {
   "codemirror_mode": {
    "name": "ipython",
    "version": 3
   },
   "file_extension": ".py",
   "mimetype": "text/x-python",
   "name": "python",
   "nbconvert_exporter": "python",
   "pygments_lexer": "ipython3",
   "version": "3.10.13"
  }
 },
 "nbformat": 4,
 "nbformat_minor": 2
}
