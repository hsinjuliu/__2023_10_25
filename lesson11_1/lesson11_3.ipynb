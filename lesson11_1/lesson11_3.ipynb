{
 "cells": [
  {
   "cell_type": "code",
   "execution_count": 8,
   "metadata": {},
   "outputs": [
    {
     "name": "stdout",
     "output_type": "stream",
     "text": [
      "{'科目1': 100, '科目2': 99, '科目3': 98}\n",
      "{'科目1': 100, '科目2': 99, '科目3': 98}\n",
      "{'科目1': 100, '科目2': 99, '科目3': 98}\n",
      "{'科目1': 100, '科目2': 99, '科目3': 98}\n",
      "100\n",
      "100\n",
      "('科目1', 100)\n",
      "('科目2', 99)\n",
      "('科目3', 98)\n"
     ]
    }
   ],
   "source": [
    "#dist=dictionary\n",
    "\n",
    "#用大括號建立實體\n",
    "subjects1 = {'科目1':100,'科目2':99, '科目3':98}\n",
    "print(subjects1)\n",
    "\n",
    "#用引數名稱的呼叫dictc()函式\n",
    "subjects2 = dict(科目1=100,科目2=99, 科目3=98) #key沒有字串的引號\n",
    "print(subjects2)\n",
    "\n",
    "#搭配公式\n",
    "subjects3 = {f\"科目{i+1}\":100-i for i in range(3)}\n",
    "print(subjects3)\n",
    "\n",
    "#搭配公式\n",
    "#range(頭,不含尾,間隔)\n",
    "subjects4 = {f\"科目{x+1}\":100-x for x in range(0,3,1)}\n",
    "print(subjects4)\n",
    "\n",
    "#dict[key]取出\n",
    "print(subjects1['科目1'])\n",
    "\n",
    "#dict.get(key)取出\n",
    "print(subjects1.get('科目1'))\n",
    "\n",
    "#tuple = dist.items\n",
    "tuples = subjects1.items()\n",
    "for t in tuples:\n",
    "    print(t)\n",
    "\n"
   ]
  }
 ],
 "metadata": {
  "kernelspec": {
   "display_name": "Python 3",
   "language": "python",
   "name": "python3"
  },
  "language_info": {
   "codemirror_mode": {
    "name": "ipython",
    "version": 3
   },
   "file_extension": ".py",
   "mimetype": "text/x-python",
   "name": "python",
   "nbconvert_exporter": "python",
   "pygments_lexer": "ipython3",
   "version": "3.10.13"
  }
 },
 "nbformat": 4,
 "nbformat_minor": 2
}
