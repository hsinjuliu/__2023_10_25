{
 "cells": [
  {
   "cell_type": "code",
   "execution_count": 6,
   "metadata": {},
   "outputs": [],
   "source": [
    "#類別初始化\n",
    "class Person:\n",
    "\n",
    "    #__init__(第一個參數一定要叫self,但是呼叫時不用寫自動會傳)\n",
    "    def __init__(self,p1,p2):\n",
    "        self.name=p1\n",
    "        self.age=p2\n",
    "        print(\"執行初始化\")"
   ]
  },
  {
   "cell_type": "code",
   "execution_count": 10,
   "metadata": {},
   "outputs": [
    {
     "name": "stdout",
     "output_type": "stream",
     "text": [
      "執行初始化\n",
      "<__main__.Person object at 0x7f133ef6a6e0>\n",
      "NAME\n",
      "18\n",
      "執行初始化\n",
      "<__main__.Person object at 0x7f13542cef50>\n",
      "NNN\n",
      "20\n"
     ]
    }
   ],
   "source": [
    "#self會自動傳進__init__\n",
    "#照順序給初始化參數\n",
    "p1 = Person(\"NAME\",18)\n",
    "print(p1)\n",
    "print(p1.name)\n",
    "print(p1.age)\n",
    "\n",
    "#用引數初始化\n",
    "p2 = Person(p1=\"NNN\",p2=20)\n",
    "print(p2)\n",
    "print(p2.name)\n",
    "print(p2.age)"
   ]
  }
 ],
 "metadata": {
  "kernelspec": {
   "display_name": "Python 3",
   "language": "python",
   "name": "python3"
  },
  "language_info": {
   "codemirror_mode": {
    "name": "ipython",
    "version": 3
   },
   "file_extension": ".py",
   "mimetype": "text/x-python",
   "name": "python",
   "nbconvert_exporter": "python",
   "pygments_lexer": "ipython3",
   "version": "3.10.13"
  }
 },
 "nbformat": 4,
 "nbformat_minor": 2
}
