{
 "cells": [
  {
   "cell_type": "code",
   "execution_count": 25,
   "metadata": {},
   "outputs": [
    {
     "name": "stdout",
     "output_type": "stream",
     "text": [
      "94\n",
      "5 random times:\n",
      "[36, 52, 17, 42, 86]\n"
     ]
    }
   ],
   "source": [
    "import random\n",
    "import pyinputplus as pyip\n",
    "\n",
    "#random.choices(seq,k):從字串、串列或 tuple中，隨機取出k個項目，可能重複\n",
    "#random.sample(seq,l): 從字串、串列或 tuple中，隨機取出k個項目，不會重複\n",
    "\n",
    "#random.randint(x,y): 隨機拿1個x~y的數字(包含y)\n",
    "num:int = random.randint(0,100)\n",
    "print(num)\n",
    "\n",
    "#手動多次隨機(可能重複)\n",
    "nums:list[str] = []\n",
    "random_times:int = random.randint(1,5)\n",
    "print(random_times ,\"random times:\")\n",
    "for i in range(random_times):\n",
    "\n",
    "    #檢查不重複\n",
    "    new_num:int = random.randint(0,100)\n",
    "    if new_num not in nums:\n",
    "        nums.append(new_num)\n",
    "\n",
    "print(nums)\n"
   ]
  },
  {
   "cell_type": "code",
   "execution_count": 40,
   "metadata": {},
   "outputs": [
    {
     "name": "stdout",
     "output_type": "stream",
     "text": [
      "隨機抽幾個名字?['Nancy', 'judy', '12345']\n",
      "隨機給幾個分數?\n",
      "\n",
      "[{'Nancy': [97, 15, 83, 8]}, {'judy': [1, 87, 21, 26]}, {'12345': [100, 54, 70, 67]}]\n"
     ]
    }
   ],
   "source": [
    "#讀取姓名檔案,隨機抓x個姓名, 隨機給y分數\n",
    "\n",
    "f = open('name.txt', mode='r', encoding='utf-8')\n",
    "namestr = f.read()\n",
    "f.close()\n",
    "\n",
    "names:list[str] = namestr.split(\"\\n\")\n",
    "\n",
    "times_name = pyip.inputInt(\"隨機抽幾個名字?\",min=1,max=5)\n",
    "\n",
    "random_names = random.sample(names,times_name)\n",
    "print(random_names)\n",
    "\n",
    "times_score:int = pyip.inputInt(\"隨機給幾個分數?\",min=1,max=5)\n",
    "print()\n",
    "print()\n",
    "\n",
    "allNameScores = []\n",
    "for eachName in random_names:\n",
    "\n",
    "    scores:list[int] = []\n",
    "    for i in range(times_score):\n",
    "        scores.append(random.randint(0,100))\n",
    "    eachNameScores = {eachName : scores}\n",
    "\n",
    "    allNameScores.append(eachNameScores)\n",
    "print(allNameScores)"
   ]
  },
  {
   "cell_type": "code",
   "execution_count": 49,
   "metadata": {},
   "outputs": [
    {
     "name": "stdout",
     "output_type": "stream",
     "text": [
      "4\n",
      "\n",
      "請輸入要抽幾個人?最多4個抽2個\n",
      "['TOM,091234567', 'jessica,0987654321']\n"
     ]
    }
   ],
   "source": [
    "f = open('select.txt', mode='r', encoding='utf-8')\n",
    "infostr = f.read()\n",
    "f.close()\n",
    "\n",
    "#檢查幾筆資料\n",
    "infos = infostr.split('\\n')\n",
    "max=len(infos)\n",
    "print(max)\n",
    "print()\n",
    "\n",
    "times = pyip.inputInt(f\"請輸入要抽幾個人?最多{max}個\",min=1,max=max)\n",
    "print(f'抽{times}個')\n",
    "\n",
    "selected = random.sample(infos,times)\n",
    "print(selected)\n",
    "\n"
   ]
  }
 ],
 "metadata": {
  "kernelspec": {
   "display_name": "Python 3",
   "language": "python",
   "name": "python3"
  },
  "language_info": {
   "codemirror_mode": {
    "name": "ipython",
    "version": 3
   },
   "file_extension": ".py",
   "mimetype": "text/x-python",
   "name": "python",
   "nbconvert_exporter": "python",
   "pygments_lexer": "ipython3",
   "version": "3.10.13"
  }
 },
 "nbformat": 4,
 "nbformat_minor": 2
}
