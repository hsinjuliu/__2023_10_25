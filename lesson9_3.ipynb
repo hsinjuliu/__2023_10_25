{
 "cells": [
  {
   "cell_type": "code",
   "execution_count": 110,
   "metadata": {},
   "outputs": [],
   "source": [
    "#前面兩個底線__的attribute代表不能取出不能修改\n",
    "#除非def @property函式\n",
    "\n",
    "class Student:\n",
    "    def __init__(self,p1_name,p2_subjects):\n",
    "        self.__name=p1_name\n",
    "        self.subjects=p2_subjects\n",
    "\n",
    "    @property #告知為屬性的getter\n",
    "    def name(self):\n",
    "        return self.__name\n",
    "\n",
    "        \n",
    "    #複寫函式\n",
    "    #類別的詳細說明,外部呼叫print(cls)時要印出的'文字'\n",
    "    #外部呼叫repr(cls)\n",
    "    def __repr__(slef):\n",
    "        representation = '1'\n",
    "        return representation\n",
    "\n",
    "\n",
    "    #複寫函式\n",
    "    #類別的說明,外部呼叫print(cls)時要印出的文字 \n",
    "    #print(cls)時優先於__repr__\n",
    "    #外部呼叫str(cls)\n",
    "    def __str__(self):\n",
    "        description = '1'\n",
    "        return description\n",
    "\n",
    "\n",
    "    #實體方法\n",
    "    def getEachSubject(self):\n",
    "        for subject in self.subjects:\n",
    "            print(subject)\n",
    "\n",
    "    #實體方法\n",
    "    def getEachScores(self):\n",
    "        for key in self.subjects:\n",
    "            print(subjects[key])\n",
    "\n",
    "    #實體方法\n",
    "    def getAvgScore(self):\n",
    "        sum = 0\n",
    "        cnt = 0\n",
    "        for key in self.subjects:\n",
    "            cnt+=1\n",
    "            sum+=subjects[key]\n",
    "        \n",
    "        if cnt==0:\n",
    "            return 0\n",
    "        else:\n",
    "            return sum/cnt\n",
    "            "
   ]
  },
  {
   "cell_type": "code",
   "execution_count": 114,
   "metadata": {},
   "outputs": [
    {
     "name": "stdout",
     "output_type": "stream",
     "text": [
      "{'chinese': 99, 'english': 98, 'math': 97}\n",
      "S1\n",
      "chinese\n",
      "english\n",
      "math\n",
      "99\n",
      "98\n",
      "97\n",
      "98.0\n",
      "1\n",
      "1\n",
      "1\n"
     ]
    },
    {
     "data": {
      "text/plain": [
       "\"'1'\""
      ]
     },
     "execution_count": 114,
     "metadata": {},
     "output_type": "execute_result"
    }
   ],
   "source": [
    "\n",
    "subjects={'chinese':99,'english':98,'math':97}\n",
    "s1 = Student(\"S1\",subjects)\n",
    "\n",
    "print(s1.subjects)\n",
    "\n",
    "#print(s1.__name) #兩個底線的屬性不能取出需呼叫函式\n",
    "print(s1.name)\n",
    "\n",
    "s1.getEachSubject()\n",
    "\n",
    "s1.getEachScores()\n",
    "\n",
    "print(s1.getAvgScore())\n",
    "\n",
    "print(repr(s1))\n",
    "print(str(s1))\n",
    "print(s1)\n",
    "\n"
   ]
  }
 ],
 "metadata": {
  "kernelspec": {
   "display_name": "Python 3",
   "language": "python",
   "name": "python3"
  },
  "language_info": {
   "codemirror_mode": {
    "name": "ipython",
    "version": 3
   },
   "file_extension": ".py",
   "mimetype": "text/x-python",
   "name": "python",
   "nbconvert_exporter": "python",
   "pygments_lexer": "ipython3",
   "version": "3.10.13"
  }
 },
 "nbformat": 4,
 "nbformat_minor": 2
}
