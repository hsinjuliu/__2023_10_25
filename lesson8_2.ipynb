{
 "cells": [
  {
   "cell_type": "code",
   "execution_count": null,
   "metadata": {},
   "outputs": [],
   "source": [
    "#自訂函式\n",
    "#梯形面積=(上底+下底)*高/2\n",
    "def trapezoid_area(up,down,height):\n",
    "    return ((up+down)*height/2)\n",
    "\n",
    "\n",
    "import pyinputplus as pyip\n",
    "\n",
    "up = pyip.inputFloat()\n",
    "down = pyip.inputFloat()\n",
    "height = pyip.inputFloat()\n",
    "\n",
    "print(\"上底:\",up)\n",
    "print(\"下底:\",down)\n",
    "print(\"高:\",height)\n",
    "\n",
    "#按照參數順序呼叫\n",
    "print(f\"參數呼叫,梯形面積={trapezoid_area(up,down,height)}\")\n",
    "\n",
    "#引數呼叫,引數不需要按照順序\n",
    "print(f\"引數呼叫,梯形面積={trapezoid_area(height=height,up=up,down=down)}\")\n",
    "\n",
    "#混合呼叫,參數>引數\n",
    "print(f\"混合呼叫,梯形面積={trapezoid_area(up,height=height,down=down)}\")\n"
   ]
  }
 ],
 "metadata": {
  "language_info": {
   "name": "python"
  }
 },
 "nbformat": 4,
 "nbformat_minor": 2
}
