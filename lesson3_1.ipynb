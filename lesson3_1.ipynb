{
 "cells": [
  {
   "cell_type": "code",
   "execution_count": 4,
   "metadata": {},
   "outputs": [
    {
     "name": "stdout",
     "output_type": "stream",
     "text": [
      "hello Jupyter!\n"
     ]
    }
   ],
   "source": [
    "print(\"hello Jupyter!\")"
   ]
  },
  {
   "cell_type": "code",
   "execution_count": 3,
   "metadata": {},
   "outputs": [
    {
     "data": {
      "text/plain": [
       "'我有3個apple,5個orange,總共8個水果'"
      ]
     },
     "execution_count": 3,
     "metadata": {},
     "output_type": "execute_result"
    }
   ],
   "source": [
    "#字串差補: f\"sss{變數}sss{變數}sss\"\n",
    "apple=3\n",
    "orange=5\n",
    "f\"我有{apple}個apple,{orange}個orange,總共{apple+orange}個水果\""
   ]
  },
  {
   "cell_type": "code",
   "execution_count": 7,
   "metadata": {},
   "outputs": [
    {
     "name": "stdout",
     "output_type": "stream",
     "text": [
      "梯形的面積: 52.12499999999999 平方公分\n",
      "梯形的面積:52.12499999999999平方公分\n",
      "梯形的面積:52.12平方公分\n"
     ]
    }
   ],
   "source": [
    "#讓使用者輸入梯形的上底、下底、高，讓程式計算梯形的面積\n",
    "\n",
    "#eval():把字串拿掉變數值,不限int/float\n",
    "top=eval(input(\"輸入上底:\")) #5.3\n",
    "bottom=eval(input(\"輸入下底:\")) #8.6\n",
    "height=eval(input(\"輸入高:\")) #7.5\n",
    "\n",
    "area=(top+bottom)*height/2\n",
    "print(\"梯形的面積:\",area, \"平方公分\") #52.124999999\n",
    "\n",
    "#字串差補: f\"sss{變數}sss{變數}sss\"\n",
    "print(f\"梯形的面積:{area}平方公分\") \n",
    "\n",
    "#字串差補可以指定小數位數f\"sss{變數:.位數f}sss\"\n",
    "print(f\"梯形的面積:{area:.2f}平方公分\") \n"
   ]
  }
 ],
 "metadata": {
  "kernelspec": {
   "display_name": "Python 3",
   "language": "python",
   "name": "python3"
  },
  "language_info": {
   "codemirror_mode": {
    "name": "ipython",
    "version": 3
   },
   "file_extension": ".py",
   "mimetype": "text/x-python",
   "name": "python",
   "nbconvert_exporter": "python",
   "pygments_lexer": "ipython3",
   "version": "3.10.13"
  }
 },
 "nbformat": 4,
 "nbformat_minor": 2
}
