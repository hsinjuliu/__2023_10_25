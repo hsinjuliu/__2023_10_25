{
 "cells": [
  {
   "cell_type": "code",
   "execution_count": 2,
   "metadata": {},
   "outputs": [
    {
     "name": "stdout",
     "output_type": "stream",
     "text": [
      "['a', ['b', 'c'], 1]\n"
     ]
    }
   ],
   "source": [
    "l1=[]\n",
    "l1.append('a')\n",
    "l1.append(['b','c'])\n",
    "l1.append(1)\n",
    "\n",
    "print(l1)\n"
   ]
  },
  {
   "cell_type": "code",
   "execution_count": 4,
   "metadata": {},
   "outputs": [
    {
     "name": "stdout",
     "output_type": "stream",
     "text": [
      "['a', ['b', 'c'], 1]\n"
     ]
    }
   ],
   "source": [
    "l2 = ['a',['b','c'],1]\n",
    "print(l2)"
   ]
  },
  {
   "cell_type": "code",
   "execution_count": 7,
   "metadata": {},
   "outputs": [
    {
     "name": "stdout",
     "output_type": "stream",
     "text": [
      "[]\n"
     ]
    }
   ],
   "source": [
    "l3 = list()\n",
    "print(l3)"
   ]
  },
  {
   "cell_type": "code",
   "execution_count": 16,
   "metadata": {},
   "outputs": [
    {
     "name": "stdout",
     "output_type": "stream",
     "text": [
      "[1, 2, 3, 4, 5, 6, 7, 8, 9]\n",
      "[0, 1, 2, 3, 4, 5, 6, 7, 8, 9, 10]\n",
      "[0, 1, 2, 3, 4, 5, 6, 7, 8, 9]\n",
      "[0, 1, 2, 3, 5, 6, 7, 8, 9]\n",
      "[]\n"
     ]
    }
   ],
   "source": [
    "l4 = list(range(1,10))\n",
    "print(l4)\n",
    "\n",
    "l4.append(10)\n",
    "l4.insert(0,0)\n",
    "print(l4)\n",
    "\n",
    "#移除最後\n",
    "l4.pop()\n",
    "print(l4)\n",
    "\n",
    "#移除指定值\n",
    "l4.pop(4)\n",
    "print(l4)\n",
    "\n",
    "#清除\n",
    "l4.clear()\n",
    "print(l4)"
   ]
  },
  {
   "cell_type": "code",
   "execution_count": 19,
   "metadata": {},
   "outputs": [
    {
     "name": "stdout",
     "output_type": "stream",
     "text": [
      "9\n",
      "10\n",
      "10\n",
      "1\n"
     ]
    }
   ],
   "source": [
    "l5 = list(range(1,10))\n",
    "\n",
    "#裡面有幾個值\n",
    "print(len(l5))\n",
    "\n",
    "#最大\n",
    "l5.append(10)\n",
    "print(len(l5))\n",
    "print(max(l5))\n",
    "\n",
    "#最小\n",
    "print(min(l5))"
   ]
  }
 ],
 "metadata": {
  "kernelspec": {
   "display_name": "Python 3",
   "language": "python",
   "name": "python3"
  },
  "language_info": {
   "codemirror_mode": {
    "name": "ipython",
    "version": 3
   },
   "file_extension": ".py",
   "mimetype": "text/x-python",
   "name": "python",
   "nbconvert_exporter": "python",
   "pygments_lexer": "ipython3",
   "version": "3.10.13"
  }
 },
 "nbformat": 4,
 "nbformat_minor": 2
}
