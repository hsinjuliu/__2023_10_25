{
 "cells": [
  {
   "cell_type": "code",
   "execution_count": 1,
   "metadata": {},
   "outputs": [],
   "source": [
    "import random\n",
    "import pyinputplus as pyip\n",
    "\n",
    "def getRandom(txt_name:str='random.txt', get_cnt:int=1) -> list[list]:\n",
    "    '''\n",
    "    getRandom\n",
    "    txt_name: file name with format .txt, default is random.txt\n",
    "    get_cnt: need get how much random info, default is 1\n",
    "    '''\n",
    "\n",
    "    #open file\n",
    "    src_file = open(txt_name,mode='r',encoding='utf-8')\n",
    "    src_str = src_file.read()\n",
    "    src_file.close()\n",
    "    \n",
    "    print()\n",
    "    print(\"file content:\" , src_str)\n",
    "    print()\n",
    "\n",
    "    #split file to list\n",
    "    datalist = src_str.split('\\n')\n",
    "    max =len(datalist)\n",
    "\n",
    "    print('data size:',max)\n",
    "    print() \n",
    "\n",
    "    selected = [list]\n",
    "    if get_cnt > max:\n",
    "        selected.append(random.sample(datalist,max))\n",
    "    else:\n",
    "        selected.append(random.sample(datalist,get_cnt))\n",
    "\n",
    "    return selected\n"
   ]
  },
  {
   "cell_type": "code",
   "execution_count": null,
   "metadata": {},
   "outputs": [],
   "source": []
  },
  {
   "cell_type": "code",
   "execution_count": 3,
   "metadata": {},
   "outputs": [
    {
     "name": "stdout",
     "output_type": "stream",
     "text": [
      "放在指定資料夾中的檔案名稱全名:抽幾個?\n",
      "file content: Tom\n",
      "Nancy\n",
      "JESSIE\n",
      "Miu Miu\n",
      "judy\n",
      "JiMMY\n",
      "12345\n",
      "TEST\n",
      "\n",
      "data size: 8\n",
      "\n",
      "隨機抽5結果:\n",
      "[<class 'list'>, ['Tom', 'TEST', 'Nancy', 'JiMMY', 'JESSIE']]\n",
      "\n",
      "file content: TOM,091234567;\n",
      "jessica,0987654321;\n",
      "Patrick,0911223344;\n",
      "Ruby,0988776655;\n",
      "\n",
      "data size: 4\n",
      "\n",
      "隨機抽1個結果:\n",
      "[<class 'list'>, ['Patrick,0911223344;']]\n"
     ]
    }
   ],
   "source": [
    "csv_name = pyip.inputStr(\"放在指定資料夾中的檔案名稱全名:\")\n",
    "get_cnt = pyip.inputInt(\"抽幾個?\")\n",
    "\n",
    "result = getRandom(csv_name,get_cnt)\n",
    "print(f\"隨機抽{get_cnt}結果:\")\n",
    "print(result)\n",
    "\n",
    "result2 = getRandom()\n",
    "print(\"隨機抽1個結果:\")\n",
    "print(result2)\n",
    "\n",
    "\n",
    "\n"
   ]
  }
 ],
 "metadata": {
  "kernelspec": {
   "display_name": "Python 3",
   "language": "python",
   "name": "python3"
  },
  "language_info": {
   "codemirror_mode": {
    "name": "ipython",
    "version": 3
   },
   "file_extension": ".py",
   "mimetype": "text/x-python",
   "name": "python",
   "nbconvert_exporter": "python",
   "pygments_lexer": "ipython3",
   "version": "3.10.13"
  }
 },
 "nbformat": 4,
 "nbformat_minor": 2
}
