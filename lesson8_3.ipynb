{
 "cells": [
  {
   "cell_type": "code",
   "execution_count": 16,
   "metadata": {},
   "outputs": [
    {
     "name": "stdout",
     "output_type": "stream",
     "text": [
      "hello-user\n",
      "\n",
      "hello-user\n",
      "how are you?\n",
      "123\n",
      "fine thank you!\n"
     ]
    }
   ],
   "source": [
    "#自訂函式:tuple參數\n",
    "#參數呼叫: 要按照參數順序(沒預設值>有預設值>可有可無*或**)\n",
    "#若沒按照順序放會有錯誤error\n",
    "#沒預設值: 一定要放的參數\n",
    "#可有可無/不固定數量可以用星號*或**\n",
    "#一個星號*代表tuple\n",
    "#兩個星號**代表dict\n",
    "\n",
    "def sayHello(hi,name,*others):\n",
    "\n",
    "    print(hi,name, sep=\"-\", end=\"\\n\")\n",
    "    for o in others:\n",
    "        print(o, sep=\"-\", end=\"\\n\")\n",
    "\n",
    "\n",
    "sayHello(\"hello\",\"user\")\n",
    "print()\n",
    "\n",
    "sayHello(\"hello\",\"user\",\"how are you?\",123,\"fine thank you!\")"
   ]
  }
 ],
 "metadata": {
  "kernelspec": {
   "display_name": "Python 3",
   "language": "python",
   "name": "python3"
  },
  "language_info": {
   "codemirror_mode": {
    "name": "ipython",
    "version": 3
   },
   "file_extension": ".py",
   "mimetype": "text/x-python",
   "name": "python",
   "nbconvert_exporter": "python",
   "pygments_lexer": "ipython3",
   "version": "3.10.13"
  }
 },
 "nbformat": 4,
 "nbformat_minor": 2
}
