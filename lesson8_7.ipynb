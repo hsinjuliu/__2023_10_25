{
 "cells": [
  {
   "cell_type": "code",
   "execution_count": 15,
   "metadata": {},
   "outputs": [
    {
     "name": "stdout",
     "output_type": "stream",
     "text": [
      "[]\n"
     ]
    },
    {
     "data": {
      "text/plain": [
       "[]"
      ]
     },
     "metadata": {},
     "output_type": "display_data"
    },
    {
     "data": {
      "text/plain": [
       "list"
      ]
     },
     "execution_count": 15,
     "metadata": {},
     "output_type": "execute_result"
    }
   ],
   "source": [
    "l1 =list()\n",
    "\n",
    "\n",
    "#輸出內容但沒有資料格式\n",
    "print(l1)\n",
    "\n",
    "#顯示內容和資料格式\n",
    "display(l1)\n",
    "\n",
    "#型態\n",
    "type(l1)\n",
    "\n"
   ]
  },
  {
   "cell_type": "code",
   "execution_count": 24,
   "metadata": {},
   "outputs": [
    {
     "data": {
      "text/plain": [
       "(5, 6, 7, 8, 9)"
      ]
     },
     "metadata": {},
     "output_type": "display_data"
    },
    {
     "data": {
      "text/plain": [
       "[1, 2, 3, 4, 5]"
      ]
     },
     "metadata": {},
     "output_type": "display_data"
    },
    {
     "data": {
      "text/plain": [
       "1"
      ]
     },
     "metadata": {},
     "output_type": "display_data"
    },
    {
     "data": {
      "text/plain": [
       "[100, 2, 3, 4, 5]"
      ]
     },
     "metadata": {},
     "output_type": "display_data"
    },
    {
     "data": {
      "text/plain": [
       "{'國文': 0, '英文': 1, '數學': 2}"
      ]
     },
     "metadata": {},
     "output_type": "display_data"
    },
    {
     "data": {
      "text/plain": [
       "0"
      ]
     },
     "metadata": {},
     "output_type": "display_data"
    },
    {
     "data": {
      "text/plain": [
       "{'國文': 100, '英文': 99, '數學': 98}"
      ]
     },
     "metadata": {},
     "output_type": "display_data"
    },
    {
     "data": {
      "text/plain": [
       "100"
      ]
     },
     "metadata": {},
     "output_type": "display_data"
    }
   ],
   "source": [
    "#tuple不能更改內容值\n",
    "numbers = (5,6,7,8,9)\n",
    "type(numbers)\n",
    "display(numbers)\n",
    "\n",
    "\n",
    "#list可以更改內容值\n",
    "students = [1,2,3,4,5]\n",
    "type(students)\n",
    "display(students)\n",
    "display(students[0])\n",
    "\n",
    "students[0] = 100\n",
    "display(students)\n",
    "\n",
    "\n",
    "#dict = {key1:value1, key2:value2, key3:value3}\n",
    "subjects = {'國文':0,'英文':1, '數學':2}\n",
    "display(subjects)\n",
    "display(subjects['國文'])\n",
    "\n",
    "#或是\n",
    "#dict(**kwarg) 引數的呼叫: dict(str=value)\n",
    "subjects = dict(國文=100,英文=99, 數學=98)\n",
    "display(subjects)\n",
    "display(subjects['國文'])\n",
    "\n",
    "\n"
   ]
  }
 ],
 "metadata": {
  "kernelspec": {
   "display_name": "Python 3",
   "language": "python",
   "name": "python3"
  },
  "language_info": {
   "codemirror_mode": {
    "name": "ipython",
    "version": 3
   },
   "file_extension": ".py",
   "mimetype": "text/x-python",
   "name": "python",
   "nbconvert_exporter": "python",
   "pygments_lexer": "ipython3",
   "version": "3.10.13"
  }
 },
 "nbformat": 4,
 "nbformat_minor": 2
}
