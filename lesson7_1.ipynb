{
 "cells": [
  {
   "cell_type": "code",
   "execution_count": 20,
   "metadata": {},
   "outputs": [
    {
     "name": "stdout",
     "output_type": "stream",
     "text": [
      "1\n",
      "3\n"
     ]
    }
   ],
   "source": [
    "#亂數random並非python內建函式，而是內建工具箱，需要import\n",
    "import random\n",
    "\n",
    "print(random.randrange(1,3)) #不包含尾數: 1,2\n",
    "\n",
    "print(random.randint(1,3)) #包含尾數1,2,3"
   ]
  },
  {
   "cell_type": "code",
   "execution_count": 29,
   "metadata": {},
   "outputs": [
    {
     "name": "stdout",
     "output_type": "stream",
     "text": [
      "猜數字,第1次:\n",
      "5\n",
      "提示:再小一點!\n",
      "猜數字,第2次:\n",
      "4\n",
      "猜對了!\n",
      "結束!\n"
     ]
    }
   ],
   "source": [
    "#猜數字\n",
    "import random\n",
    "\n",
    "min = 1\n",
    "max = 10\n",
    "target = random.randint(1,10)\n",
    "#target = random.rantrange(1,11)\n",
    "print(f\"target={target}\")\n",
    "\n",
    "count = 0\n",
    "while(True):\n",
    "\n",
    "    count+=1\n",
    "    print(f\"猜數字,第{count}次:\")\n",
    "    i = int(input(f\"請輸入數字,範圍{min}~{max}:\"))\n",
    "    print(i)\n",
    "\n",
    "    if(i == target):\n",
    "        print(\"猜對了!\")\n",
    "        break\n",
    "    elif(i >=1 and i <= 10):\n",
    "\n",
    "        #pass #沒內容時可用pass\n",
    "        if(i<target):\n",
    "            print(\"提示:再大一點!\")\n",
    "        else:\n",
    "            print(\"提示:再小一點!\")\n",
    "    else:\n",
    "        print(\"超過範圍!請重新輸入!\")\n",
    "\n",
    "print(\"結束!\")"
   ]
  },
  {
   "cell_type": "code",
   "execution_count": 30,
   "metadata": {},
   "outputs": [
    {
     "name": "stdout",
     "output_type": "stream",
     "text": [
      "結束!\n"
     ]
    }
   ],
   "source": [
    "while True:\n",
    "    play_again = input(\"還要繼續嗎?(y/n):\")\n",
    "\n",
    "    if play_again == \"n\":\n",
    "        break\n",
    "\n",
    "print(\"結束!\")"
   ]
  }
 ],
 "metadata": {
  "kernelspec": {
   "display_name": "Python 3",
   "language": "python",
   "name": "python3"
  },
  "language_info": {
   "codemirror_mode": {
    "name": "ipython",
    "version": 3
   },
   "file_extension": ".py",
   "mimetype": "text/x-python",
   "name": "python",
   "nbconvert_exporter": "python",
   "pygments_lexer": "ipython3",
   "version": "3.10.13"
  }
 },
 "nbformat": 4,
 "nbformat_minor": 2
}
